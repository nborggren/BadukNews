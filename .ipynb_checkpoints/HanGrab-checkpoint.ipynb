{
 "cells": [
  {
   "cell_type": "code",
   "execution_count": 6,
   "metadata": {
    "collapsed": true
   },
   "outputs": [],
   "source": [
    "cmd='curl \\'http://baduk.hangame.com/giboxml.nhn?gseq=REPLACEME\\' -H \\'Host: baduk.hangame.com\\' -H \\'User-Agent: Mozilla/5.0 (Macintosh; Intel Mac OS X 10.10; rv:44.0) Gecko/20100101 Firefox/44.0\\' -H \\'Accept: text/html,application/xhtml+xml,application/xml;q=0.9,*/*;q=0.8\\' -H \\'Accept-Language: en-US,en;q=0.5\\' -H \\'Accept-Encoding: gzip, deflate\\' -H \\'Referer: http://baduk.hangame.com/share/flashgibo/viewer.swf\\' -H \\'Cookie: NNB=GHHWT5IEQKFVM; BID=QOIW72UKEOEVE8C1EEIAKY4CY; JSESSIONID=04BB152196D886A92ADC320EAD75F7C1\\' -H \\'Connection: keep-alive\\' > ./hangames/REPLACEME.xml'"
   ]
  },
  {
   "cell_type": "code",
   "execution_count": 8,
   "metadata": {
    "collapsed": false
   },
   "outputs": [
    {
     "name": "stdout",
     "output_type": "stream",
     "text": [
      "curl 'http://baduk.hangame.com/giboxml.nhn?gseq=REPLACEME' -H 'Host: baduk.hangame.com' -H 'User-Agent: Mozilla/5.0 (Macintosh; Intel Mac OS X 10.10; rv:44.0) Gecko/20100101 Firefox/44.0' -H 'Accept: text/html,application/xhtml+xml,application/xml;q=0.9,*/*;q=0.8' -H 'Accept-Language: en-US,en;q=0.5' -H 'Accept-Encoding: gzip, deflate' -H 'Referer: http://baduk.hangame.com/share/flashgibo/viewer.swf' -H 'Cookie: NNB=GHHWT5IEQKFVM; BID=QOIW72UKEOEVE8C1EEIAKY4CY; JSESSIONID=04BB152196D886A92ADC320EAD75F7C1' -H 'Connection: keep-alive' > ./hangames/REPLACEME.xml\n"
     ]
    }
   ],
   "source": [
    "print cmd\n"
   ]
  },
  {
   "cell_type": "code",
   "execution_count": 3,
   "metadata": {
    "collapsed": true
   },
   "outputs": [],
   "source": [
    "t1 = cmd.replace('REPLACEME',str(1))"
   ]
  },
  {
   "cell_type": "code",
   "execution_count": 4,
   "metadata": {
    "collapsed": false
   },
   "outputs": [
    {
     "data": {
      "text/plain": [
       "\"curl 'http://baduk.hangame.com/giboxml.nhn?gseq=1' -H 'Host: baduk.hangame.com' -H 'User-Agent: Mozilla/5.0 (Macintosh; Intel Mac OS X 10.10; rv:44.0) Gecko/20100101 Firefox/44.0' -H 'Accept: text/html,application/xhtml+xml,application/xml;q=0.9,*/*;q=0.8' -H 'Accept-Language: en-US,en;q=0.5' -H 'Accept-Encoding: gzip, deflate' -H 'Referer: http://baduk.hangame.com/share/flashgibo/viewer.swf' -H 'Cookie: NNB=GHHWT5IEQKFVM; BID=QOIW72UKEOEVE8C1EEIAKY4CY; JSESSIONID=04BB152196D886A92ADC320EAD75F7C1' -H 'Connection: keep-alive' > 1.xml\""
      ]
     },
     "execution_count": 4,
     "metadata": {},
     "output_type": "execute_result"
    }
   ],
   "source": [
    "t1"
   ]
  },
  {
   "cell_type": "code",
   "execution_count": 5,
   "metadata": {
    "collapsed": false
   },
   "outputs": [
    {
     "data": {
      "text/plain": [
       "\"curl 'http://baduk.hangame.com/giboxml.nhn?gseq=REPLACEME' -H 'Host: baduk.hangame.com' -H 'User-Agent: Mozilla/5.0 (Macintosh; Intel Mac OS X 10.10; rv:44.0) Gecko/20100101 Firefox/44.0' -H 'Accept: text/html,application/xhtml+xml,application/xml;q=0.9,*/*;q=0.8' -H 'Accept-Language: en-US,en;q=0.5' -H 'Accept-Encoding: gzip, deflate' -H 'Referer: http://baduk.hangame.com/share/flashgibo/viewer.swf' -H 'Cookie: NNB=GHHWT5IEQKFVM; BID=QOIW72UKEOEVE8C1EEIAKY4CY; JSESSIONID=04BB152196D886A92ADC320EAD75F7C1' -H 'Connection: keep-alive' > REPLACEME.xml\""
      ]
     },
     "execution_count": 5,
     "metadata": {},
     "output_type": "execute_result"
    }
   ],
   "source": [
    "cmd"
   ]
  },
  {
   "cell_type": "code",
   "execution_count": 13,
   "metadata": {
    "collapsed": true
   },
   "outputs": [],
   "source": [
    "f = open('grabgames.sh','w')\n",
    "f.write('#!/bin/bash\\n')\n",
    "for i in range(34630):\n",
    "    f.write(cmd.replace('REPLACEME',str(i+16992))+'\\n\\n')"
   ]
  },
  {
   "cell_type": "code",
   "execution_count": 14,
   "metadata": {
    "collapsed": true
   },
   "outputs": [],
   "source": [
    "f.close()"
   ]
  },
  {
   "cell_type": "code",
   "execution_count": null,
   "metadata": {
    "collapsed": true
   },
   "outputs": [],
   "source": []
  }
 ],
 "metadata": {
  "kernelspec": {
   "display_name": "Python 2",
   "language": "python",
   "name": "python2"
  },
  "language_info": {
   "codemirror_mode": {
    "name": "ipython",
    "version": 2
   },
   "file_extension": ".py",
   "mimetype": "text/x-python",
   "name": "python",
   "nbconvert_exporter": "python",
   "pygments_lexer": "ipython2",
   "version": "2.7.10"
  }
 },
 "nbformat": 4,
 "nbformat_minor": 0
}

{
 "cells": [
  {
   "cell_type": "code",
   "execution_count": 2,
   "metadata": {
    "collapsed": true
   },
   "outputs": [],
   "source": [
    "f=open('./lists/hanxml.list')\n",
    "games=[]\n",
    "for line in f:\n",
    "    games.append(line.split('.')[0])"
   ]
  },
  {
   "cell_type": "code",
   "execution_count": 5,
   "metadata": {
    "collapsed": false
   },
   "outputs": [],
   "source": [
    "g=open('./hangames/'+games[17]+'.xml')"
   ]
  },
  {
   "cell_type": "code",
   "execution_count": 6,
   "metadata": {
    "collapsed": false
   },
   "outputs": [
    {
     "name": "stdout",
     "output_type": "stream",
     "text": [
      "<?xml version=\"1.0\" encoding=\"UTF-8\"?>\r\n",
      "\n",
      "<gibo>\r\n",
      "\n",
      "\t<gseq>1013</gseq><!-- 기보 시퀀스 -->\r\n",
      "\n",
      "\t<playdate>2004-11-10</playdate>\t<!-- 대국일자 (YYYYMMDD)-->\r\n",
      "\n",
      "\t<kind>0</kind>\t<!-- 구분(1:프로기보, 2:한게임기보) -->\r\n",
      "\n",
      "\t<title>\r\n",
      "\n",
      "\t\t\t\t비씨카드배 신인왕전\r\n",
      "\n",
      "\t\t\t\t\r\n",
      "\n",
      "\t\t\t\t\r\n",
      "\n",
      "\t\t\t\r\n",
      "\n",
      "\t</title> <!-- 기보 제목(기전이름/상태 입력 상태에 따라 가공하여 보냄) -->\r\n",
      "\n",
      "\t<playerbseq>190</playerbseq>\t\t<!-- 흑대국자 시퀀스 (=badukpeople.seq)-->\r\n",
      "\n",
      "\t<playerbname>김동희</playerbname>\t\t<!-- 흑대국자 이름 (=badukpeople.namekorean)-->\r\n",
      "\n",
      "\t<playerbgrade>2단</playerbgrade>\t<!-- 흑대국자 단수 (기보 입력당시의 단수)-->\r\n",
      "\n",
      "\t<playerbimg>\r\n",
      "\n",
      "\t\t\r\n",
      "\n",
      "\t\thttp://images.hangame.co.kr/hangame/renewal_2007/baduk/common/noimage_player120x97.gif\r\n",
      "\n",
      "\t</playerbimg>\t\t<!-- 흑대국자 썸네일(입력 안된 경우 노이미지 URL로 보냄) -->\r\n",
      "\n",
      "\t<playerwseq>51</playerwseq>\t\t<!-- 백대국자 시퀀스 (=badukpeople.seq)-->\r\n",
      "\n",
      "\t<playerwname>박정상</playerwname>\t\t<!-- 백대국자 이름 (=badukpeople.namekorean)-->\r\n",
      "\n",
      "\t<playerwgrade>9단</playerwgrade>\t<!-- 백대국자 단수 (기보 입력당시의 단수)-->\r\n",
      "\n",
      "\t<playerwimg>\r\n",
      "\n",
      "\t\t\r\n",
      "\n",
      "\t\thttp://images.hangame.co.kr/hangame/renewal_2007/baduk/common/noimage_player120x97.gif\r\n",
      "\n",
      "\t</playerwimg>\t\t<!-- 백대국자 썸네일(입력 안된 경우 노이미지 URL로 보냄)-->\r\n",
      "\n",
      "\t<winplayerseq>51</winplayerseq>\t<!-- 승자 시퀀스 (=badukpeople.seq)-->\r\n",
      "\n",
      "\t<defeatplayerseq>190</defeatplayerseq>\t<!-- 패자 시퀀스 (=badukpeople.seq)-->\r\n",
      "\n",
      "\t<extra>-</extra>\t\t\t<!-- 덤-->\r\n",
      "\n",
      "\t<gomi>-</gomi>\t\t\t<!-- 치수-->\r\n",
      "\n",
      "\t<limittime>-</limittime>\t\t<!-- 제한시간-->\r\n",
      "\n",
      "\t<place>-</place>\t\t\t<!-- 대국장소-->\r\n",
      "\n",
      "\t<result>백 불계승</result>\t<!-- 결과(ex: 흑 불계승)-->\r\n",
      "\n",
      "\t<readnum>1089</readnum>\t\t<!-- 조회수-->\r\n",
      "\n",
      "\t<gibodata>(;PL[B]MN[1]VW[bb:uu];B[pd];W[dd];B[pq];W[dp];B[qj];W[fq];B[fc];W[cg];B[nc];W[dc];B[id];W[lp];B[po];W[co];B[ln];W[jp];B[jn];W[ni];B[ph];W[ki];B[li];W[lj];B[mj];W[mi];B[lh];W[lk];B[nj];W[kh];B[lg];W[mm];B[nl];W[lm];B[ik];W[kg];B[lf];W[km];B[ip];W[jo];B[dn];W[cn];B[io];W[kn];B[fn];W[qc];B[re];W[ob];B[nb];W[oc];B[od];W[rb];B[rd];W[hn];B[dl];W[fl];B[fp];W[gp];B[gl];W[gk];B[fm];W[el];B[gq];W[fo];B[ep];W[eq];B[eo];W[go];B[dq];W[dr];B[cq];W[cr];B[gr];W[fr];B[in];W[hm];B[hl];W[im];B[jm];W[jl];B[il];W[iq];B[jk];W[kl];B[cm];W[em];B[en];W[dm];B[gm];W[hp];B[cp];W[bq];B[fj];W[fk];B[gj];W[dk];B[ej];W[dj];B[hg];W[jj];B[bp];W[ap];B[ij];W[bo];B[kf];W[kc];B[lb];W[hc];B[ce];W[de];B[hd];W[gc];B[gd];W[fb];B[cf];W[dg];B[bg];W[bh];B[bc];W[gg];B[gh];W[bf];B[be];W[ag];B[cb];W[ic];B[on];W[fg];B[jd];W[hf];B[ig];W[ii];B[di];W[ci];B[hi];W[ab];B[ek];W[cl];B[ef];W[db];B[hk];W[bm];B[df];W[eg];B[cd];W[fe];B[gf];W[ge];B[fd];W[ee];B[ae];W[if];B[ji];W[jh];B[ih];W[jc];B[ji];W[qd];B[qe];W[ii];B[eb];W[ec];B[ji];W[bb];B[cc];W[ii];B[ca];W[qq];B[qp];W[nd];B[md];W[ne];B[oe];W[jg];B[ji];W[mc])</gibodata>\r\n",
      "\n",
      "</gibo>\n"
     ]
    }
   ],
   "source": [
    "for line in g:\n",
    "    print line"
   ]
  },
  {
   "cell_type": "code",
   "execution_count": 7,
   "metadata": {
    "collapsed": true
   },
   "outputs": [],
   "source": [
    "import xml.etree.ElementTree as ET\n",
    "tree = ET.parse('./hangames/'+games[17]+'.xml')\n",
    "root = tree.getroot()"
   ]
  },
  {
   "cell_type": "code",
   "execution_count": 8,
   "metadata": {
    "collapsed": false
   },
   "outputs": [
    {
     "data": {
      "text/plain": [
       "<Element 'gibo' at 0x104c09c90>"
      ]
     },
     "execution_count": 8,
     "metadata": {},
     "output_type": "execute_result"
    }
   ],
   "source": [
    "root"
   ]
  },
  {
   "cell_type": "code",
   "execution_count": 10,
   "metadata": {
    "collapsed": false
   },
   "outputs": [
    {
     "name": "stdout",
     "output_type": "stream",
     "text": [
      "gseq 1013\n",
      "playdate 2004-11-10\n",
      "kind 0\n",
      "title \n",
      "\t\t\t\t비씨카드배 신인왕전\n",
      "\t\t\t\t\n",
      "\t\t\t\t\n",
      "\t\t\t\n",
      "\t\n",
      "playerbseq 190\n",
      "playerbname 김동희\n",
      "playerbgrade 2단\n",
      "playerbimg \n",
      "\t\t\n",
      "\t\thttp://images.hangame.co.kr/hangame/renewal_2007/baduk/common/noimage_player120x97.gif\n",
      "\t\n",
      "playerwseq 51\n",
      "playerwname 박정상\n",
      "playerwgrade 9단\n",
      "playerwimg \n",
      "\t\t\n",
      "\t\thttp://images.hangame.co.kr/hangame/renewal_2007/baduk/common/noimage_player120x97.gif\n",
      "\t\n",
      "winplayerseq 51\n",
      "defeatplayerseq 190\n",
      "extra -\n",
      "gomi -\n",
      "limittime -\n",
      "place -\n",
      "result 백 불계승\n",
      "readnum 1089\n",
      "gibodata (;PL[B]MN[1]VW[bb:uu];B[pd];W[dd];B[pq];W[dp];B[qj];W[fq];B[fc];W[cg];B[nc];W[dc];B[id];W[lp];B[po];W[co];B[ln];W[jp];B[jn];W[ni];B[ph];W[ki];B[li];W[lj];B[mj];W[mi];B[lh];W[lk];B[nj];W[kh];B[lg];W[mm];B[nl];W[lm];B[ik];W[kg];B[lf];W[km];B[ip];W[jo];B[dn];W[cn];B[io];W[kn];B[fn];W[qc];B[re];W[ob];B[nb];W[oc];B[od];W[rb];B[rd];W[hn];B[dl];W[fl];B[fp];W[gp];B[gl];W[gk];B[fm];W[el];B[gq];W[fo];B[ep];W[eq];B[eo];W[go];B[dq];W[dr];B[cq];W[cr];B[gr];W[fr];B[in];W[hm];B[hl];W[im];B[jm];W[jl];B[il];W[iq];B[jk];W[kl];B[cm];W[em];B[en];W[dm];B[gm];W[hp];B[cp];W[bq];B[fj];W[fk];B[gj];W[dk];B[ej];W[dj];B[hg];W[jj];B[bp];W[ap];B[ij];W[bo];B[kf];W[kc];B[lb];W[hc];B[ce];W[de];B[hd];W[gc];B[gd];W[fb];B[cf];W[dg];B[bg];W[bh];B[bc];W[gg];B[gh];W[bf];B[be];W[ag];B[cb];W[ic];B[on];W[fg];B[jd];W[hf];B[ig];W[ii];B[di];W[ci];B[hi];W[ab];B[ek];W[cl];B[ef];W[db];B[hk];W[bm];B[df];W[eg];B[cd];W[fe];B[gf];W[ge];B[fd];W[ee];B[ae];W[if];B[ji];W[jh];B[ih];W[jc];B[ji];W[qd];B[qe];W[ii];B[eb];W[ec];B[ji];W[bb];B[cc];W[ii];B[ca];W[qq];B[qp];W[nd];B[md];W[ne];B[oe];W[jg];B[ji];W[mc])\n"
     ]
    }
   ],
   "source": [
    "for child in root:\n",
    "    print child.tag,child.text"
   ]
  },
  {
   "cell_type": "code",
   "execution_count": null,
   "metadata": {
    "collapsed": true
   },
   "outputs": [],
   "source": []
  }
 ],
 "metadata": {
  "kernelspec": {
   "display_name": "Python 2",
   "language": "python",
   "name": "python2"
  },
  "language_info": {
   "codemirror_mode": {
    "name": "ipython",
    "version": 2
   },
   "file_extension": ".py",
   "mimetype": "text/x-python",
   "name": "python",
   "nbconvert_exporter": "python",
   "pygments_lexer": "ipython2",
   "version": "2.7.11"
  }
 },
 "nbformat": 4,
 "nbformat_minor": 0
}

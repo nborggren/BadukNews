{
 "cells": [
  {
   "cell_type": "code",
   "execution_count": 1,
   "metadata": {
    "collapsed": true
   },
   "outputs": [],
   "source": [
    "from HanLib import *\n",
    "import xml.etree.ElementTree as ET\n",
    "from konlpy.tag import Kkma\n",
    "from konlpy.utils import pprint"
   ]
  },
  {
   "cell_type": "code",
   "execution_count": null,
   "metadata": {
    "collapsed": false
   },
   "outputs": [],
   "source": [
    "sent = LoadDB()\n",
    "print len(sent)\n",
    "kkma=Kkma()\n",
    "# morphs = []\n",
    "# pos = []\n",
    "\n",
    "# for i in sent[:10]:\n",
    "#     #print i\n",
    "#     #pprint(kkma.nouns(i))\n",
    "#     #pprint(kkma.pos(i))\n",
    "#     morphs+=kkma.morphs(i)\n",
    "#     pos+=kkma.pos(i)"
   ]
  },
  {
   "cell_type": "code",
   "execution_count": null,
   "metadata": {
    "collapsed": true
   },
   "outputs": [],
   "source": []
  }
 ],
 "metadata": {
  "kernelspec": {
   "display_name": "Python 2",
   "language": "python",
   "name": "python2"
  },
  "language_info": {
   "codemirror_mode": {
    "name": "ipython",
    "version": 2
   },
   "file_extension": ".py",
   "mimetype": "text/x-python",
   "name": "python",
   "nbconvert_exporter": "python",
   "pygments_lexer": "ipython2",
   "version": "2.7.11"
  }
 },
 "nbformat": 4,
 "nbformat_minor": 0
}

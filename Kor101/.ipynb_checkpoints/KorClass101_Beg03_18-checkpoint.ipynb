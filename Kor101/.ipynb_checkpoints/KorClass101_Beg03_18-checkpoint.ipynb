version https://git-lfs.github.com/spec/v1
oid sha256:44cc2d496da3c51e88ae513ffef50a2b24e4b63a9167e651d262796a3eb8b691
size 32813

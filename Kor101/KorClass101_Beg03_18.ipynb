{
 "cells": [
  {
   "cell_type": "code",
   "execution_count": 1,
   "metadata": {
    "collapsed": false
   },
   "outputs": [
    {
     "ename": "SyntaxError",
     "evalue": "Non-ASCII character '\\xe2' in file HanLib.py on line 17, but no encoding declared; see http://python.org/dev/peps/pep-0263/ for details (HanLib.py, line 17)",
     "output_type": "error",
     "traceback": [
      "\u001b[0;36m  File \u001b[0;32m\"HanLib.py\"\u001b[0;36m, line \u001b[0;32m17\u001b[0m\n\u001b[0;31m    for i in ['\\n','_','-','(',')','\"','\\'',u'▲','...','[',']',u'■','<','>','\\r',u'▶',u'◀']:\u001b[0m\n\u001b[0m                                                                                            ^\u001b[0m\n\u001b[0;31mSyntaxError\u001b[0m\u001b[0;31m:\u001b[0m Non-ASCII character '\\xe2' in file HanLib.py on line 17, but no encoding declared; see http://python.org/dev/peps/pep-0263/ for details\n"
     ]
    }
   ],
   "source": [
    "from HanLib import *"
   ]
  },
  {
   "cell_type": "code",
   "execution_count": 7,
   "metadata": {
    "collapsed": false
   },
   "outputs": [],
   "source": [
    "import time\n",
    "import re\n",
    "import codecs\n",
    "import urllib2 as ul\n",
    "import xml.etree.ElementTree as ET\n",
    "\n",
    "def ReadSent(pageno,src='../han/'):\n",
    "    dat=codecs.open(src+str(pageno)+'.d',encoding='utf-8')\n",
    "    dat = dat.read()\n",
    "    dat = Clean(dat)\n",
    "    dat = dat.replace('?','.')\n",
    "    dat = dat.replace('!','.')\n",
    "    return [' '.join(i.split()) for i in dat.split('.')]\n",
    "    \n",
    "def Clean(sentence,comma=0):\n",
    "    if comma==0:\n",
    "        for i in ['\\n','_','-','(',')','\"','\\'',u'▲','...','[',']',u'■','<','>','\\r',u'▶',u'◀']:\n",
    "            sentence=sentence.replace(i,' ')\n",
    "    else:\n",
    "        for i in ['\\n','_','-','(',')','\"','\\'',u'▲','...','[',']',u'■','<','>',',','\\r']:\n",
    "            sentence=sentence.replace(i,' ')\n",
    "    return sentence.strip()\n",
    "\n",
    "def LoadDB():\n",
    "    sent1=[]\n",
    "    f = open('../lists/han.list')\n",
    "    for line in f:\n",
    "        tmp=ReadSent(int(line.split('.')[0]))\n",
    "        for j in tmp:\n",
    "            sent1.append(j)\n",
    "\n",
    "    sent2=[]\n",
    "    f = open('../lists/dat.list')\n",
    "    for line in f:\n",
    "        tmp=ReadSent(int(line.split('.')[0]),src='../dat/')\n",
    "        for j in tmp:\n",
    "            sent2.append(j)\n",
    "        \n",
    "    sent3=[]\n",
    "    f = open('../lists/oro.list')\n",
    "    for line in f:\n",
    "        tmp=ReadSent(int(line.split('.')[0]),src='../oro/')\n",
    "        for j in tmp:\n",
    "            sent3.append(j)\n",
    "\n",
    "    return sent1+sent2+sent3\n",
    "\n",
    "def ShortSent(sent):\n",
    "    return sorted(sent, key = lambda x: len(x))\n",
    "\n",
    "def SearchDB(sent,token):\n",
    "    matches = [i for i in sent if i.find(token)>0]\n",
    "    return sorted(matches, key=lambda x: len(x))\n",
    "\n",
    "def SearchDBList(sent,tokens):\n",
    "    matches=[]\n",
    "    for token in tokens:\n",
    "        matches += [i for i in sent if i.find(token)>0]\n",
    "    return sorted(matches, key=lambda x: len(x))\n",
    "\n",
    "def Simplify(sent):\n",
    "    return list(set(sent))\n",
    "\n",
    "#a la https://github.com/mouuff/Google-Translate-API/blob/master/python/GoogleTranslate.py\n",
    "def translate(to_translate, to_langage=\"auto\", langage=\"auto\"):\n",
    "    to_translate=to_translate.encode('utf-8')\n",
    "    agents = {'User-Agent':\"Mozilla/4.0 (compatible; MSIE 6.0; Windows NT 5.1;SV1; .NET CLR 1.1.4322; .NET CLR 2.0.50727; .NET CLR 3.0.04506.30)\"}\n",
    "    before_trans = 'class=\"t0\">'\n",
    "    link = \"http://translate.google.com/m?hl=%s&sl=%s&q=%s\"% (to_langage, langage, to_translate.replace(\" \", \"+\"))\n",
    "    request = ul.Request(link, headers=agents)\n",
    "    page = ul.urlopen(request).read()\n",
    "    result = page[page.find(before_trans)+len(before_trans):]\n",
    "    result = result.split(\"<\")[0]\n",
    "    return result\n",
    "\n",
    "def LoadWordBank(wbank,path='./xml/'):\n",
    "    tree = ET.parse(path+wbank)\n",
    "    root = tree.getroot()\n",
    "    mywords={}\n",
    "    for j,k in zip(root.iter('Word'),root.iter('English')):\n",
    "        mywords[j.text]=k.text\n",
    "    return mywords\n",
    "\n",
    "def WCount(sent,write=0,n=2000,name='freq.wlist'):\n",
    "    mywords={}\n",
    "    for i in sent:\n",
    "        i=i.replace(',','')\n",
    "        for j in i.split():\n",
    "            try:\n",
    "                mywords[j]+=1\n",
    "            except KeyError:\n",
    "                mywords[j]=1\n",
    "    freq = sorted(mywords.keys(), key=lambda x: mywords[x])\n",
    "    freq.reverse()\n",
    "    if write==1:\n",
    "        dat=codecs.open('./output/'+name,'w',encoding='utf-8')\n",
    "        for i in freq[:n]:\n",
    "            try:\n",
    "                dat.write(i)\n",
    "                dat.write(', '+translate(i))\n",
    "                dat.write('\\n')\n",
    "            except UnicodeDecodeError:\n",
    "                continue\n",
    "        \n",
    "    return mywords, freq\n",
    "        \n",
    "def LoadFreqList(name,src='./output/'):\n",
    "    f = open(src+name)\n",
    "    keys=[]\n",
    "    vals=[]\n",
    "    for line in f:\n",
    "        tmp = line.decode('utf-8').split(',')\n",
    "        keys.append(tmp[0])\n",
    "        vals.append(int(tmp[1]))\n",
    "    return keys,vals\n",
    "\n",
    "def MergeFreqList(name1,name2):\n",
    "    dic1={}\n",
    "    keys,vals=LoadFreqList(name1)\n",
    "    keys1,vals1=LoadFreqList(name2)\n",
    "    for i,j in zip(keys,vals):\n",
    "        dic1[i]=j\n",
    "    for i,j in zip(keys1,vals1):\n",
    "        try:\n",
    "            dic1[i]+=j\n",
    "        except KeyError:\n",
    "            dic1[i]=j\n",
    "    keyt=sorted(dic1.keys(), key=lambda x: dic1[x])\n",
    "    keyt.reverse()\n",
    "    valt=[dic1[i] for i in keyt]\n",
    "    return keyt,valt"
   ]
  },
  {
   "cell_type": "code",
   "execution_count": 8,
   "metadata": {
    "collapsed": false
   },
   "outputs": [],
   "source": [
    "sent = LoadDB()"
   ]
  },
  {
   "cell_type": "markdown",
   "metadata": {},
   "source": [
    "##KoreanClass101 Beg. Level 3 #18 'Two in One'"
   ]
  },
  {
   "cell_type": "code",
   "execution_count": 13,
   "metadata": {
    "collapsed": false
   },
   "outputs": [
    {
     "name": "stdout",
     "output_type": "stream",
     "text": [
      "17\n",
      "여자기사 중에서 제일 센 것 같아 자신이 없다\n",
      "제가 이 중에서 제일 부드러운 남자이기 때문이죠\n",
      "이번에 대결하는 선수들 중에서 제일 잘 나가고 있다고 압니다\n",
      "□ 유창혁 9단 백 : 왕시 5단네 판 중에서 제일 빠른 편\n",
      "3큐션은 어느 정도 자신이 있는데 4구는 5명 중에서 제일 못친다\n",
      "쌍문동 P 는 프로식별아이디 중에서 제일 먼저 16강행에 오르는 선수가 됐다\n",
      "이창호는 비록 준결승에서 발목이 잡혀 결승 진출이 꺾였지만 한국기사 중에서 제일 잘했다\n",
      "왕샹윈 초단은 정옌 2단은 중국에서 좋은 성적을 거두고 있고 우리 팀 중에서 제일 세다\n",
      "일본 사람들은 과거 바둑을 좋아하다가 지금은 한·중·일 3국 중에서 제일 뒤처지고 있죠\n",
      "여천무극 6단 빵 중에서 제일 맛있는 빵이 안전 빵이고, 제일 불안한 빵이 몰 빵이라고 합니다\n",
      "하긴 400판이나 넘게 두어서 200만원의 상금이니, 사실은 감사의 표시 중에서 제일 낮은 수준일 터\n",
      "구리 백 vs 고바야시 62 오늘 벌어지고 있는 8판 중에서 제일 어려운 모양으로 바둑이 진행되고 있다\n",
      "서봉수 9단은 골프 실력이 이들 중에서 제일 강하다고 하며 바둑 성적이 좋지 않을 때 항상 골프를 통해 마음의 안정을 찾는다고 한다\n",
      "최9단은 6월 6일 저녁 8시 한국기원 1층 바둑TV 스튜디오에서 벌어진 제2회 전자랜드배 왕중왕전 8강전에서 찐드기로 널리 알려진 이희성 6단을 꺾고 참가 선수들 중에서 제일 먼저 4강에 진출했다\n",
      "삼성화재배 이창호가 한국선수 중에서 제일 잘했다 작성자:한창규, 2009 11 06 02:53 입력 불세출의 영웅 이창호 9단이 치우쥔 8단에게 졌다는 사실은 그에 대한 믿음이 컸던 팬들에겐 자못 충격으로 전해온다\n",
      "박정환은 국후 인터뷰에서 국내기전 중에서 제일 갖고 싶었던 타이틀이라 굉장히 기쁘다 며 초반엔 만만치 않은 형세였는데 중반부터 상대에게서 조금씩 실수가 나왔고, 결정적으로 우상 수상전에서 백을 잡아 승리를 예감했다 고 말했다\n",
      "평소 회원들에게 두터운 인기를 받고 있는 구렛나루걸 은 5월 3일 저녁 8시 타이젬 동양증권배방에서 벌어진 제2회 동양종합금융증권배 본선전 1조 에서 프로식별아이디 국산바 P 를 불계로 물리치고 32강 멤버 중에서 제일 먼저 16강 진출에 성공했다 241수 끝, 흑 불계승 구렛나루걸 과 국산바 P 는 이날 대국보다 하루 전인 5월 2일 저녁8시에 벌인 본선 첫 대국에서 죽은듯살어 와 xuelanhua 를 각각 누르고 승자조 결승에 진출한 바 있다\n"
     ]
    }
   ],
   "source": [
    "tag = u' 중에서 제일'\n",
    "stag = SearchDB(sent,tag)\n",
    "print len(stag)\n",
    "for i in range(min([50,len(stag)])):print stag[i]"
   ]
  },
  {
   "cell_type": "code",
   "execution_count": 14,
   "metadata": {
    "collapsed": false
   },
   "outputs": [
    {
     "name": "stdout",
     "output_type": "stream",
     "text": [
      "1602\n",
      "이 중에서 8\n",
      "이는 4개국 중에서 56\n",
      "이 중에서 우승자의 필체는\n",
      "이들 중에서 3명을 뽑는다\n",
      "이 중에서 챔피언이 나온다\n",
      "이 중에서 우승자가 나올까\n",
      "대국 중에서 힘들었을 때는\n",
      "45개 문제 중에서 말이다\n",
      "수 많은 신예들 중에서 말야\n",
      "그 중에서 축구가 제일 좋다\n",
      "그 중에서 고르라는 것이었다\n",
      "4대천왕 중에서 유창혁만 홀대\n",
      "이 중에서 4명이 승리를 거뒀다\n",
      "한중일 전체 기사 중에서 1위다\n",
      "출전국 중에서 단연 최다 인원이다\n",
      "이 중에서 속기왕은 누가 차지할까\n",
      "3국 중에서 이제 한 판이 끝났다\n",
      "7개 중에서 5개를 맞혔다는 것은\n",
      "최근 입단한 기사 중에서 말해주세요\n",
      "상대 오더 중에서 맞힌 판이 있나요\n",
      "이 이름 중에서 절반이 본선에 오른다\n",
      "조혜연 인터뷰 중에서 바둑TV 대국장\n",
      "이 중에서 몇 명은 나와 친분이 있다\n",
      "그 중에서 강동궁 선수의 랭킹은 2위\n",
      "이 성적은 12개 팀 중에서 유일하다\n",
      "아마추어 중에서 유일하게 승리한 김현찬\n",
      "맥심커피배 별 중에서 가장 빛나는 별은\n",
      "중국기사 중에서 까다로운 상대가 있는지\n",
      "그 주인공은 이들 7명 중에서 탄생한다\n",
      "이 중에서 입신 중의 입신 이 탄생한다\n",
      "입단자 중에서 누가 근성이 가장 좋은가\n",
      "요즘 후배들 중에서 강자들을 꼽는다면…\n",
      "4기 멤버들 중에서 기력이 가장 낮았다\n",
      "연예인 중에서 유승호와 송중기가 좋아요\n",
      "아제오록 중에서 i진선 한마디 아 감격\n",
      "“ 바둑은 스포츠 중에서 가장 젠틀하다\n",
      "스웨는 많은 고수들 중에서 우승해 기쁘다\n",
      "지난해 일본 선수 중에서 우승하지 못했다\n",
      "한국기사 중에서 가장 먼저 대국을 끝냈다\n",
      "이는 30위 안의 기사 중에서 최대 상승폭\n",
      "예선 출전자 중에서 먼저 본선무대를 밟았다\n",
      "어록 중에서 두 기사 정말 이상하게 둡니다\n",
      "그 중에서 이원영 아마 5단을 피하고 싶다\n",
      "한국 신예 중에서 나현의 라이벌을 꼽는다면\n",
      "타이젬 9단들 중에서 센 9단은 정말 세요\n",
      "그 중에서 2조까지 올라갔던 친구가 있었다\n",
      "최근 바둑 중에서 그의 걸작보를 발췌해본다\n",
      "그 중에서 가장 힘들었던 상대가 누구였는가\n",
      "부모님 중에서 바둑을 잘 두는 분이 있는가\n",
      "이는 외국 용병 중에서 가장 좋은 성적이다\n"
     ]
    }
   ],
   "source": [
    "tag = u' 중에서 '\n",
    "stag = SearchDB(sent,tag)\n",
    "print len(stag)\n",
    "for i in range(50):print stag[i]"
   ]
  },
  {
   "cell_type": "code",
   "execution_count": 15,
   "metadata": {
    "collapsed": false
   },
   "outputs": [
    {
     "name": "stdout",
     "output_type": "stream",
     "text": [
      "191\n",
      "또 종류는\n",
      "기타 포커 종류2\n",
      "이런 종류의 카페가 많다\n",
      "그도 기다림의 한 종류겠지\n",
      "전천후 기지게임의 종류 1\n",
      "즐기는 술은 어떤 종류인가\n",
      "연승은 여러가지 종류가 있다\n",
      "4가지 종류의 바둑을 소개한다\n",
      "잡지 종류가 한국의 몇 백배였다\n",
      "세 종류의 코치가 있다고 합디다\n",
      "당신이 즐겨보는 프로그램의 종류는\n",
      "연승도 종류를 좀 나눠서 생각해보고\n",
      "그런데 그 종류가 무려 8가지였습니다\n",
      "나무의 종류도 무려 113여종에 이른다\n",
      "최대규모 시설답게 온천탕 종류도 여러가지\n",
      "입단대회의 종류는 크게 두 가지로 나뉜다\n",
      "뱡뱡면이라는 국수 종류를 나타내는 글자다\n",
      "앞에는 스크래치 복권이 종류별로 놓여있다\n",
      "보통 앉아서 하는 종류를 좋아하지는 않는가\n",
      "전세계에 150여종의 포커게임 종류가 있다\n",
      "각 레벨에 맞춘 많은 종류의 바둑강좌가 있다\n",
      "호기심이 많아서 여러 종류의 운동을 해왔어요\n",
      "여기서 즐길 수 있는 게임 종류는 다섯 가지\n",
      "호기심이 많아서 여러 종류의 운동을 해왔어요\n",
      "① 이용 요금의 종류는 다음 각 목과 같습니다\n",
      "도박 종류나 구분법은 여러 가지가 있을 수 있다\n",
      "아시안게엠에서도 두 종류의 인간 분류법이 생겼다\n",
      "하지만 ‘정종’은 술의 종류가 아니라 상표명이다\n",
      "” 다른 종류의 10번기도 치러질 가능성 있을까\n",
      "상쾌하다 라는 종류의 긍정적 반응들이 혼재 된 것\n",
      "1 다시 말해 바둑은 게임 또는 경기의 한 종류이다\n",
      "말하자면 보급 기사인 셈인데 보급도 종류가 다양하다\n",
      "매니아층을 거느린 컬트와인 의 한 종류인 듯도 하다\n",
      "이런 종류의 사건은 자주는 아니지만 간혹 있기 마련\n",
      "커피, 녹차 등 여러 종류의 음료도 준비 될 예정이다\n",
      "자전거부터 샴푸까지 다양한 종류의 선물을 받은 바둑인들\n",
      "메뉴판을 들여다보았는데 종류가 무려 10여가지나 되었다\n",
      "또 책 들도 종류가 많아 좋은 책도 있고 나쁜 책도 있다\n",
      "우리나라 사람들도 이런 종류의 폭격에 대해 잘 알고 있다\n",
      "따라서 어떤 종류든 게임의 룰을 남보다 빨리 파악하게 된다\n",
      "‘퉈’는 이 두 종류의 대회에서 모두 좋은 성적을 거두었다\n",
      "바둑판은 세가지 종류가 있는데 제가 가장 선호하는 판 입니다\n",
      "한 종류의 방식만 두기 때문에 상대가 수를 내면 손해를 본다\n",
      "어떤 종류의 술을 마시는지요 후지사와: 요즘은 술을 경계한다\n",
      "또 아주 젊을 때와는 다른 종류의 고민이 많을 나이기도 하고\n",
      "사활문제는 종류, 난이도를 막론하고 실전에서 응용하기 어렵다\n",
      "이런 종류의 논조는 뢰기풍파 赖棋风波 에서 이미 조짐이 보였다\n",
      "그간 경매서는 경매 성공기와 전문서, 이렇게 두 종류가 있었다\n",
      "지금은 비록 시합수가 많지만, 이런 종류의 대국은 극히 드물다\n",
      "소련엔 많은 종류의 오페라단이 자기 전문분야 노래만 부르고 있다\n"
     ]
    }
   ],
   "source": [
    "tag = u' 종류'\n",
    "stag = SearchDB(sent,tag)\n",
    "print len(stag)\n",
    "for i in range(50):print stag[i]"
   ]
  },
  {
   "cell_type": "code",
   "execution_count": 13,
   "metadata": {
    "collapsed": false
   },
   "outputs": [
    {
     "name": "stdout",
     "output_type": "stream",
     "text": [
      "1963\n",
      "1% 보다 좋다\n",
      "3% 보다 약 2\n",
      "얼굴만 보다 갈꺼얌\n",
      "서울 보다 훨씬 작다\n",
      "어느 때 보다 진지하다\n",
      "용기는 구리 보다 못해\n",
      "2%의 없다 보다 많았다\n",
      "4% 보다 약간씩 올랐다\n",
      "실전이 보다 확실치 않다\n",
      "배 고픈 것 보다 좋아요\n",
      "‘나현 17 보다 빠르다\n",
      "야경이 생각 보다 화려했다\n",
      "노르웨이도 한반도 보다 1\n",
      "올림픽 금매달 보다 값지다\n",
      "기숙사 보다 환경이 좋았다\n",
      "4국 보다 먼저 끝난 5국\n",
      "차이점 보다 공통점이 많죠\n",
      "예상 보다 훨씬 잘 두었다\n",
      "남자단체전은 보다 복잡하다\n",
      "그러나 우린 보다 자유롭죠\n",
      "중국의 입장은 보다 절박하다\n",
      "5% 37승48패 보다 높다\n",
      "싱가포르 협회 보다 더 크다\n",
      "미국 보다 앞 선 보급이었다\n",
      "대국을 보다 존 적은 없나요\n",
      "대국을 보다 존 적은 없나요\n",
      "월간바둑 이 구리 보다 쎈가\n",
      "1국 을 보다 여유있게 이겼다\n",
      "해설 보다 승부 를 택한 홍민표\n",
      "4% 53승28패 보다 떨어진다\n",
      "아니, 그 보다 더 하면 더했다\n",
      "농심신라면배 신라면 보다 쌀국수\n",
      "저희들도 보다 더 노력하겠습니다\n",
      "개인기 보다 팀플레이를 강조했다\n",
      "SG세계물산배 ‘혜민 보다 혜림\n",
      "그 보다 뛰어난 사람이 있었기에\n",
      "그 때 보다 더 이뻐지셨더라구요\n",
      "전국부학생들은 보다 더 진지했다\n",
      "창하오 보다 7위나 앞서고 있다\n",
      "“박정환 9단이 보다 안정적이다\n",
      "그래서 보다 강력한 수를 구사했다\n",
      "6% 4승10패 보다 월등한 83\n",
      "5% 75승47패 보다 약간 높다\n",
      "5% 75승47패 보다 약간 높다\n",
      "4% 보다 승률면에서 월등히 높다\n",
      "4% 53승28패 보다 약간 높다\n",
      "이세돌이 보다 더 힘을 내야 한다\n",
      "중심가는 강남 보다 스케일이 크다\n",
      "기록했을 때 보다 더 긴장이 된다\n",
      "전 보다 급하게 승부를 보러 간다\n"
     ]
    }
   ],
   "source": [
    "tag = u' 종류'\n",
    "stag = SearchDB(sent,tag)\n",
    "print len(stag)\n",
    "for i in range(50):print stag[i]"
   ]
  },
  {
   "cell_type": "code",
   "execution_count": null,
   "metadata": {
    "collapsed": true
   },
   "outputs": [],
   "source": []
  }
 ],
 "metadata": {
  "kernelspec": {
   "display_name": "Python 2",
   "language": "python",
   "name": "python2"
  },
  "language_info": {
   "codemirror_mode": {
    "name": "ipython",
    "version": 2
   },
   "file_extension": ".py",
   "mimetype": "text/x-python",
   "name": "python",
   "nbconvert_exporter": "python",
   "pygments_lexer": "ipython2",
   "version": "2.7.11"
  }
 },
 "nbformat": 4,
 "nbformat_minor": 0
}

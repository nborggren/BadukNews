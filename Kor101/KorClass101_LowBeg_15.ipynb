version https://git-lfs.github.com/spec/v1
oid sha256:71e12ecf451ff5fd3d870264422c11ac9dfe56220ea136f80936e2937fe0cbef
size 42062

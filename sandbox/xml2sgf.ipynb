version https://git-lfs.github.com/spec/v1
oid sha256:6b465218ec790ef7f1d67102aa9c4d2e870d851a47bec841b2a6bfe7184287e7
size 55554

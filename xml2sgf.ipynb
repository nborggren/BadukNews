{
 "cells": [
  {
   "cell_type": "code",
   "execution_count": 2,
   "metadata": {
    "collapsed": true
   },
   "outputs": [],
   "source": [
    "f=open('./lists/hanxml.list')\n",
    "games=[]\n",
    "for line in f:\n",
    "    games.append(line.split('.')[0])"
   ]
  },
  {
   "cell_type": "code",
   "execution_count": 5,
   "metadata": {
    "collapsed": false
   },
   "outputs": [],
   "source": [
    "g=open('./hangames/'+games[17]+'.xml')"
   ]
  },
  {
   "cell_type": "code",
   "execution_count": 6,
   "metadata": {
    "collapsed": false
   },
   "outputs": [
    {
     "name": "stdout",
     "output_type": "stream",
     "text": [
      "<?xml version=\"1.0\" encoding=\"UTF-8\"?>\r\n",
      "\n",
      "<gibo>\r\n",
      "\n",
      "\t<gseq>1013</gseq><!-- 기보 시퀀스 -->\r\n",
      "\n",
      "\t<playdate>2004-11-10</playdate>\t<!-- 대국일자 (YYYYMMDD)-->\r\n",
      "\n",
      "\t<kind>0</kind>\t<!-- 구분(1:프로기보, 2:한게임기보) -->\r\n",
      "\n",
      "\t<title>\r\n",
      "\n",
      "\t\t\t\t비씨카드배 신인왕전\r\n",
      "\n",
      "\t\t\t\t\r\n",
      "\n",
      "\t\t\t\t\r\n",
      "\n",
      "\t\t\t\r\n",
      "\n",
      "\t</title> <!-- 기보 제목(기전이름/상태 입력 상태에 따라 가공하여 보냄) -->\r\n",
      "\n",
      "\t<playerbseq>190</playerbseq>\t\t<!-- 흑대국자 시퀀스 (=badukpeople.seq)-->\r\n",
      "\n",
      "\t<playerbname>김동희</playerbname>\t\t<!-- 흑대국자 이름 (=badukpeople.namekorean)-->\r\n",
      "\n",
      "\t<playerbgrade>2단</playerbgrade>\t<!-- 흑대국자 단수 (기보 입력당시의 단수)-->\r\n",
      "\n",
      "\t<playerbimg>\r\n",
      "\n",
      "\t\t\r\n",
      "\n",
      "\t\thttp://images.hangame.co.kr/hangame/renewal_2007/baduk/common/noimage_player120x97.gif\r\n",
      "\n",
      "\t</playerbimg>\t\t<!-- 흑대국자 썸네일(입력 안된 경우 노이미지 URL로 보냄) -->\r\n",
      "\n",
      "\t<playerwseq>51</playerwseq>\t\t<!-- 백대국자 시퀀스 (=badukpeople.seq)-->\r\n",
      "\n",
      "\t<playerwname>박정상</playerwname>\t\t<!-- 백대국자 이름 (=badukpeople.namekorean)-->\r\n",
      "\n",
      "\t<playerwgrade>9단</playerwgrade>\t<!-- 백대국자 단수 (기보 입력당시의 단수)-->\r\n",
      "\n",
      "\t<playerwimg>\r\n",
      "\n",
      "\t\t\r\n",
      "\n",
      "\t\thttp://images.hangame.co.kr/hangame/renewal_2007/baduk/common/noimage_player120x97.gif\r\n",
      "\n",
      "\t</playerwimg>\t\t<!-- 백대국자 썸네일(입력 안된 경우 노이미지 URL로 보냄)-->\r\n",
      "\n",
      "\t<winplayerseq>51</winplayerseq>\t<!-- 승자 시퀀스 (=badukpeople.seq)-->\r\n",
      "\n",
      "\t<defeatplayerseq>190</defeatplayerseq>\t<!-- 패자 시퀀스 (=badukpeople.seq)-->\r\n",
      "\n",
      "\t<extra>-</extra>\t\t\t<!-- 덤-->\r\n",
      "\n",
      "\t<gomi>-</gomi>\t\t\t<!-- 치수-->\r\n",
      "\n",
      "\t<limittime>-</limittime>\t\t<!-- 제한시간-->\r\n",
      "\n",
      "\t<place>-</place>\t\t\t<!-- 대국장소-->\r\n",
      "\n",
      "\t<result>백 불계승</result>\t<!-- 결과(ex: 흑 불계승)-->\r\n",
      "\n",
      "\t<readnum>1089</readnum>\t\t<!-- 조회수-->\r\n",
      "\n",
      "\t<gibodata>(;PL[B]MN[1]VW[bb:uu];B[pd];W[dd];B[pq];W[dp];B[qj];W[fq];B[fc];W[cg];B[nc];W[dc];B[id];W[lp];B[po];W[co];B[ln];W[jp];B[jn];W[ni];B[ph];W[ki];B[li];W[lj];B[mj];W[mi];B[lh];W[lk];B[nj];W[kh];B[lg];W[mm];B[nl];W[lm];B[ik];W[kg];B[lf];W[km];B[ip];W[jo];B[dn];W[cn];B[io];W[kn];B[fn];W[qc];B[re];W[ob];B[nb];W[oc];B[od];W[rb];B[rd];W[hn];B[dl];W[fl];B[fp];W[gp];B[gl];W[gk];B[fm];W[el];B[gq];W[fo];B[ep];W[eq];B[eo];W[go];B[dq];W[dr];B[cq];W[cr];B[gr];W[fr];B[in];W[hm];B[hl];W[im];B[jm];W[jl];B[il];W[iq];B[jk];W[kl];B[cm];W[em];B[en];W[dm];B[gm];W[hp];B[cp];W[bq];B[fj];W[fk];B[gj];W[dk];B[ej];W[dj];B[hg];W[jj];B[bp];W[ap];B[ij];W[bo];B[kf];W[kc];B[lb];W[hc];B[ce];W[de];B[hd];W[gc];B[gd];W[fb];B[cf];W[dg];B[bg];W[bh];B[bc];W[gg];B[gh];W[bf];B[be];W[ag];B[cb];W[ic];B[on];W[fg];B[jd];W[hf];B[ig];W[ii];B[di];W[ci];B[hi];W[ab];B[ek];W[cl];B[ef];W[db];B[hk];W[bm];B[df];W[eg];B[cd];W[fe];B[gf];W[ge];B[fd];W[ee];B[ae];W[if];B[ji];W[jh];B[ih];W[jc];B[ji];W[qd];B[qe];W[ii];B[eb];W[ec];B[ji];W[bb];B[cc];W[ii];B[ca];W[qq];B[qp];W[nd];B[md];W[ne];B[oe];W[jg];B[ji];W[mc])</gibodata>\r\n",
      "\n",
      "</gibo>\n"
     ]
    }
   ],
   "source": [
    "for line in g:\n",
    "    print line"
   ]
  },
  {
   "cell_type": "code",
   "execution_count": 129,
   "metadata": {
    "collapsed": false
   },
   "outputs": [
    {
     "ename": "IndexError",
     "evalue": "list index out of range",
     "output_type": "error",
     "traceback": [
      "\u001b[0;31m---------------------------------------------------------------------------\u001b[0m",
      "\u001b[0;31mIndexError\u001b[0m                                Traceback (most recent call last)",
      "\u001b[0;32m<ipython-input-129-6fd030c72376>\u001b[0m in \u001b[0;36m<module>\u001b[0;34m()\u001b[0m\n\u001b[1;32m      1\u001b[0m \u001b[0;32mimport\u001b[0m \u001b[0mxml\u001b[0m\u001b[0;34m.\u001b[0m\u001b[0metree\u001b[0m\u001b[0;34m.\u001b[0m\u001b[0mElementTree\u001b[0m \u001b[0;32mas\u001b[0m \u001b[0mET\u001b[0m\u001b[0;34m\u001b[0m\u001b[0m\n\u001b[0;32m----> 2\u001b[0;31m \u001b[0mtree\u001b[0m \u001b[0;34m=\u001b[0m \u001b[0mET\u001b[0m\u001b[0;34m.\u001b[0m\u001b[0mparse\u001b[0m\u001b[0;34m(\u001b[0m\u001b[0;34m'./hangames/'\u001b[0m\u001b[0;34m+\u001b[0m\u001b[0mgames\u001b[0m\u001b[0;34m[\u001b[0m\u001b[0;36m35987\u001b[0m\u001b[0;34m]\u001b[0m\u001b[0;34m+\u001b[0m\u001b[0;34m'.xml'\u001b[0m\u001b[0;34m)\u001b[0m\u001b[0;34m\u001b[0m\u001b[0m\n\u001b[0m\u001b[1;32m      3\u001b[0m \u001b[0mroot\u001b[0m \u001b[0;34m=\u001b[0m \u001b[0mtree\u001b[0m\u001b[0;34m.\u001b[0m\u001b[0mgetroot\u001b[0m\u001b[0;34m(\u001b[0m\u001b[0;34m)\u001b[0m\u001b[0;34m\u001b[0m\u001b[0m\n",
      "\u001b[0;31mIndexError\u001b[0m: list index out of range"
     ]
    }
   ],
   "source": [
    "import xml.etree.ElementTree as ET\n",
    "tree = ET.parse('./hangames/'+games[35987]+'.xml')\n",
    "root = tree.getroot()"
   ]
  },
  {
   "cell_type": "code",
   "execution_count": 128,
   "metadata": {
    "collapsed": false
   },
   "outputs": [
    {
     "name": "stdout",
     "output_type": "stream",
     "text": [
      "1999\n",
      "2024\n",
      "2026\n",
      "2038\n",
      "2092\n",
      "2093\n",
      "2157\n",
      "2163\n",
      "2164\n",
      "2168\n",
      "2186\n",
      "2239\n",
      "2279\n",
      "2320\n",
      "23209\n",
      "2323\n",
      "2338\n",
      "2347\n",
      "2349\n",
      "24178\n",
      "24179\n",
      "24201\n",
      "24202\n",
      "24229\n",
      "24249\n",
      "2427\n",
      "2429\n",
      "2430\n",
      "2431\n",
      "2436\n",
      "2438\n",
      "24384\n",
      "24385\n",
      "24386\n",
      "2439\n",
      "2440\n",
      "24403\n",
      "24404\n",
      "24431\n",
      "24432\n",
      "24433\n",
      "24434\n",
      "24464\n",
      "24465\n",
      "24469\n",
      "24470\n",
      "24539\n",
      "24574\n",
      "24575\n",
      "24713\n",
      "24731\n",
      "2475\n",
      "2522\n",
      "2523\n",
      "2524\n",
      "2525\n",
      "2526\n",
      "2527\n",
      "2528\n",
      "2557\n",
      "2563\n",
      "2564\n",
      "2565\n",
      "2566\n",
      "2568\n",
      "2569\n",
      "2570\n",
      "2582\n",
      "2631\n",
      "2632\n",
      "2633\n",
      "2797\n",
      "2800\n",
      "2801\n",
      "2895\n",
      "2896\n",
      "2897\n",
      "2918\n",
      "2940\n",
      "2974\n",
      "2975\n",
      "2977\n",
      "3013\n",
      "3022\n",
      "3025\n",
      "3026\n",
      "3031\n",
      "35712\n",
      "35722\n",
      "35726\n",
      "35738\n",
      "35741\n",
      "35745\n",
      "35747\n",
      "35752\n",
      "35758\n",
      "35760\n",
      "35765\n",
      "35766\n",
      "35768\n",
      "35771\n",
      "35772\n",
      "35775\n",
      "35776\n",
      "35783\n",
      "35791\n",
      "35792\n",
      "35795\n",
      "35800\n",
      "35801\n",
      "35805\n",
      "35811\n",
      "35812\n",
      "35818\n",
      "35830\n",
      "35831\n",
      "35832\n",
      "35833\n",
      "35836\n",
      "35862\n",
      "35863\n",
      "35866\n",
      "35868\n",
      "35869\n",
      "35871\n",
      "35881\n",
      "35882\n",
      "35883\n",
      "35885\n",
      "35888\n",
      "35889\n",
      "35893\n",
      "35894\n",
      "35895\n",
      "35896\n",
      "35897\n",
      "35898\n",
      "35901\n",
      "35902\n",
      "35907\n",
      "35908\n",
      "35909\n",
      "35923\n",
      "35934\n",
      "35943\n",
      "35948\n",
      "35951\n",
      "35958\n",
      "35975\n",
      "35976\n",
      "35978\n",
      "35979\n",
      "35980\n",
      "35981\n",
      "35982\n",
      "35983\n",
      "35984\n",
      "35985\n",
      "35986\n",
      "35987\n",
      "160 16836\n"
     ]
    }
   ],
   "source": [
    "bgames=[]\n",
    "for i in games:\n",
    "    try:    \n",
    "        tree = ET.parse('./hangames/'+i+'.xml')\n",
    "        root = tree.getroot()\n",
    "        dat=codecs.open('./sgfs/'+i+'.sgf','w',encoding='utf8')\n",
    "        dat.write(root.find('gibodata').text)\n",
    "        dat.close()\n",
    "    except ET.ParseError:\n",
    "        print i\n",
    "        bgames.append(i)\n",
    "print len(bgames),len(games)\n",
    "    "
   ]
  },
  {
   "cell_type": "code",
   "execution_count": 81,
   "metadata": {
    "collapsed": false
   },
   "outputs": [
    {
     "data": {
      "text/plain": [
       "<Element 'gibo' at 0x104bfdd10>"
      ]
     },
     "execution_count": 81,
     "metadata": {},
     "output_type": "execute_result"
    }
   ],
   "source": [
    "root"
   ]
  },
  {
   "cell_type": "code",
   "execution_count": 126,
   "metadata": {
    "collapsed": false
   },
   "outputs": [
    {
     "name": "stdout",
     "output_type": "stream",
     "text": [
      "gseq\n",
      "playdate\n",
      "kind\n",
      "title\n",
      "playerbseq\n",
      "playerbname\n",
      "playerbgrade\n",
      "playerbimg\n",
      "playerwseq\n",
      "playerwname\n",
      "playerwgrade\n",
      "playerwimg\n",
      "winplayerseq\n",
      "defeatplayerseq\n",
      "extra\n",
      "gomi\n",
      "limittime\n",
      "place\n",
      "result\n",
      "readnum\n",
      "gibodata\n",
      "gseq 19653\n",
      "playdate 2009-08-10\n",
      "kind 0\n",
      "title \n",
      "\t\t\t\t\n",
      "\t\t\t\t[제11기 STX배 여류명인전] 본선\n",
      "\t\t\t\t\n",
      "\t\t\t\n",
      "\t\n",
      "playerbseq 84\n",
      "playerbname 조혜연\n",
      "playerbgrade 8단\n",
      "playerbimg \n",
      "\t\thttp://badukwww.hangame.com/2008baduk/pro_photo/pro_photo184.jpg\n",
      "\t\t\n",
      "\t\n",
      "playerwseq 178\n",
      "playerwname 윤영민\n",
      "playerwgrade 3단\n",
      "playerwimg \n",
      "\t\thttp://images.hangame.co.kr/upload/baduk/2008baduk/pro_photo/pro_photo132.jpg\n",
      "\t\t\n",
      "\t\n",
      "winplayerseq 84\n",
      "defeatplayerseq 178\n",
      "extra 6.5\n",
      "gomi 호선\n",
      "limittime 1시간 40초 3회\n",
      "place 스카이바둑\n",
      "result 흑 불계승\n",
      "readnum 1082\n",
      "gibodata (;AP[PureMorph:1.0]CA[ISO-2022-KR]FF[4]GM[1]ST[2]SZ[19]GN[]PC[http://www.hangame.com/]DT[]TS[]TF[]TM[1시간30초3회]RE[흑 불계승]HA[호선 - 6집 반 공제]HH[1]PW[[p]윤영민]PB[[p]조혜연]WR[209]BR[209]ZC[]ZT[]AN[]HC[0]VW[aa:ss]QT[60]QC[5]QF[0]N[Title]C[Summary]QK[DMessage];B[pd]QM[0]N[정답도]C[--]QA[];W[dp];B[pq];W[dd];B[fq];W[cn];B[qk];W[nc];B[pf];W[pb];B[qc];W[kc];B[kp];W[hq];B[cf];W[df];B[dg];W[ce];B[ef];W[de];B[bf];W[eg];B[dh];W[eh];B[di];W[ei];B[be];W[dj];B[cj];W[ck];B[bj];W[cc];B[ff];W[dk];B[bk];W[gd];B[dr];W[eq];B[er];W[fp];B[gp];W[gq];B[fr];W[hp];B[cq];W[go];B[ok];W[mk];B[jd];W[kd];B[jf];W[mp];B[op];W[nm];B[mo];W[no];B[np];W[lo];B[mn];W[lp];B[ln];W[ko];B[nn];W[km];B[kn];W[jn];B[jo];W[kq];B[ll];W[kl];B[jm];W[in];B[kk];W[lm];B[mm];W[jl];B[jk];W[il];B[ml];W[lk];B[ki];W[kg];B[jg];W[pg];B[og];W[kh];B[jh];W[li];B[kj];W[mh];B[ni];W[of];B[ng];W[nf];B[mf];W[pe];B[qf];W[qe];B[re];W[rf];B[qg];W[oe];B[rg];W[kf];B[lj];W[rd];B[sf];W[qd];B[ik];W[mg];B[mi];W[id];B[lh];W[mr];B[hl];W[im];B[fd];W[fc];B[ej];W[gh];B[ge];W[hf];B[hd];W[he];B[gc];W[hc];B[gd];W[ic];B[ec];W[fb];B[gb];W[eb];B[gg]C[])\n"
     ]
    }
   ],
   "source": [
    "for child in root:\n",
    "    print child.tag\n",
    "for child in root:\n",
    "    print child.tag,child.text"
   ]
  },
  {
   "cell_type": "code",
   "execution_count": 119,
   "metadata": {
    "collapsed": false
   },
   "outputs": [],
   "source": [
    "dat=codecs.open('./sgfs/test.sgf','w',encoding='utf8')"
   ]
  },
  {
   "cell_type": "code",
   "execution_count": 105,
   "metadata": {
    "collapsed": true
   },
   "outputs": [],
   "source": [
    "sgf=root.find('gibodata').text"
   ]
  },
  {
   "cell_type": "code",
   "execution_count": 115,
   "metadata": {
    "collapsed": false
   },
   "outputs": [
    {
     "name": "stdout",
     "output_type": "stream",
     "text": [
      "59 121\n",
      "73 151\n"
     ]
    }
   ],
   "source": [
    "a=sgf.find('PB[')\n",
    "b=sgf[a:].find(']')\n",
    "b=a+b\n",
    "a=a+3\n",
    "print a,a+b\n",
    "tmp = sgf[a:b]\n",
    "sgf=sgf.replace(tmp,unicode(root.find('playerbname').text))\n",
    "a=sgf.find('PW[')\n",
    "b=sgf[a:].find(']')\n",
    "b=a+b\n",
    "a=a+3\n",
    "print a,a+b\n",
    "tmp = sgf[a:b]\n",
    "sgf=sgf.replace(tmp,unicode(root.find('playerwname').text))"
   ]
  },
  {
   "cell_type": "code",
   "execution_count": 116,
   "metadata": {
    "collapsed": false
   },
   "outputs": [
    {
     "name": "stdout",
     "output_type": "stream",
     "text": [
      "(;FF[4]GM[1]SZ[19]TM[60시간60초1회]RE[흑 불계승]HA[호선 - 6집 반 공제]PB[류수항]BR[201]PW[김주호]WR[201]QF[0];B[pd];W[dd];B[pq];W[dq];B[co];W[po];B[qo];W[qn];B[qp];W[nc];B[qf];W[pm];B[cf];W[fd];B[pj];W[np];B[ep];W[eq];B[fp];W[gq];B[gp];W[hq];B[hp];W[cp];B[bp];W[bq];B[dp];W[cq];B[iq];W[or];B[pr];W[ip];B[ir];W[hr];B[jp];W[io];B[jo];W[in];B[fq];W[fr];B[is];W[gr];B[jn];W[im];B[jm];W[il];B[dn];W[kq];B[jq];W[dk];B[el];W[ek];B[fk];W[fl];B[gl];W[fm];B[gm];W[gk];B[fj];W[em];B[fn];W[en];B[gn];W[hk];B[dl];W[fi];B[gj];W[ej];B[gi];W[dm];B[cl];W[cm];B[ck];W[bm];B[ei];W[bo];B[on];W[pn];B[op];W[oo];B[no];W[nq];B[oq];W[mo];B[nn];W[lm];B[jl];W[jk];B[kk];W[jj];B[ol];W[om];B[nm];W[nl];B[ml];W[nk];B[mm];W[ll];B[mk];W[lk];B[mj];W[ln];B[lp];W[mp];B[kj];W[lj];B[ki];W[li];B[ji])\n"
     ]
    }
   ],
   "source": [
    "print sgf"
   ]
  },
  {
   "cell_type": "code",
   "execution_count": 120,
   "metadata": {
    "collapsed": false
   },
   "outputs": [],
   "source": [
    "dat.write(sgf)\n",
    "dat.close()"
   ]
  },
  {
   "cell_type": "code",
   "execution_count": 87,
   "metadata": {
    "collapsed": false
   },
   "outputs": [
    {
     "data": {
      "text/plain": [
       "u'(;FF[4]GM[1]SZ[19]TM[60\\uc2dc\\uac0460\\ucd081\\ud68c]RE[\\ud751 \\ubd88\\uacc4\\uc2b9]HA[\\ud638\\uc120 - 6\\uc9d1 \\ubc18 \\uacf5\\uc81c]PB[\\uc218\\uc21c\\uc911\\uacc44]BR[201]PW[\\uc218\\uc21c\\uc911\\uacc43]WR[201]QF[0];B[pd];W[dd];B[pq];W[dq];B[co];W[po];B[qo];W[qn];B[qp];W[nc];B[qf];W[pm];B[cf];W[fd];B[pj];W[np];B[ep];W[eq];B[fp];W[gq];B[gp];W[hq];B[hp];W[cp];B[bp];W[bq];B[dp];W[cq];B[iq];W[or];B[pr];W[ip];B[ir];W[hr];B[jp];W[io];B[jo];W[in];B[fq];W[fr];B[is];W[gr];B[jn];W[im];B[jm];W[il];B[dn];W[kq];B[jq];W[dk];B[el];W[ek];B[fk];W[fl];B[gl];W[fm];B[gm];W[gk];B[fj];W[em];B[fn];W[en];B[gn];W[hk];B[dl];W[fi];B[gj];W[ej];B[gi];W[dm];B[cl];W[cm];B[ck];W[bm];B[ei];W[bo];B[on];W[pn];B[op];W[oo];B[no];W[nq];B[oq];W[mo];B[nn];W[lm];B[jl];W[jk];B[kk];W[jj];B[ol];W[om];B[nm];W[nl];B[ml];W[nk];B[mm];W[ll];B[mk];W[lk];B[mj];W[ln];B[lp];W[mp];B[kj];W[lj];B[ki];W[li];B[ji])'"
      ]
     },
     "execution_count": 87,
     "metadata": {},
     "output_type": "execute_result"
    }
   ],
   "source": [
    "sgf"
   ]
  },
  {
   "cell_type": "code",
   "execution_count": 41,
   "metadata": {
    "collapsed": false
   },
   "outputs": [
    {
     "data": {
      "text/plain": [
       "'(;AP[PureMorph:1.0]CA[UTF8]FF[4]GM[1]ST[2]SZ[19]GN[]PC[http://www.hangame.com/]DT[]TS[]TF[]TM[2\\xec\\x8b\\x9c\\xea\\xb0\\x8460\\xec\\xb4\\x885\\xed\\x9a\\x8c]RE[\\xed\\x9d\\x91 1.5\\xec\\xa7\\x91 \\xec\\x8a\\xb9]HA[\\xed\\x98\\xb8\\xec\\x84\\xa0 - 6\\xec\\xa7\\x91 \\xeb\\xb0\\x98 \\xea\\xb3\\xb5\\xec\\xa0\\x9c]HH[1]PW[\\xec\\xa1\\xb0\\xed\\x95\\x9c\\xec\\x8a\\xb9]PB[\\xec\\x99\\x95\\xeb\\xa0\\x88\\xec\\x9d\\xb4]WR[209]BR[209]ZC[]ZT[]AN[]HC[0]VW[aa:ss]QT[60]QC[5]QF[0]N[Title]C[Summary]QK[DMessage];B[pd]QM[0]N[\\xec\\xa0\\x95\\xeb\\x8b\\xb5\\xeb\\x8f\\x84]C[--]QA[];W[dp];B[qp];W[dc];B[oq];W[qj];B[qg];W[qm];B[cf];W[cd];B[cj];W[fq];B[fd];W[df];B[cg];W[ce];B[jc];W[cl];B[oc];W[mq];B[ec];W[ek];B[db];W[cb];B[dd];W[cc];B[de];W[ef];B[fb];W[da];B[eb];W[be];B[ej];W[fe];B[ed];W[dh];B[ch];W[fj];B[ei];W[fi];B[eh];W[fh];B[fg];W[gg];B[eg];W[fk];B[gf];W[hg];B[kp];W[mo];B[kn];W[lm];B[iq];W[jl];B[gr];W[gq];B[fr];W[er];B[hq];W[fs];B[hs];W[go];B[kr];W[ke];B[hf];W[if];B[ie];W[he];B[ge];W[je];B[id];W[kc];B[hn];W[gn];B[bl];W[bm];B[cm];W[cn];B[oo];W[qq];B[rp];W[om];B[og];W[pq];B[op];W[rq];B[rn];W[or];B[nr];W[os];B[rm];W[mr];B[ql];W[pl];B[qk];W[pk];B[nq];W[ns];B[rj];W[ri];B[qi];W[pj];B[rk];W[qc];B[qd];W[qh];B[pi];W[ph];B[oi];W[oh];B[ni];W[nh];B[rh];W[mi];B[nj];W[ng];B[mj];W[rg];B[si];W[qf];B[re];W[li];B[nn];W[ml];B[mn];W[pp];B[po];W[qo];B[nl];W[ln];B[qn];W[ob];B[nb];W[pb];B[rc];W[nc];B[mc];W[nd];B[mb];W[md];B[kb];W[jb];B[kd];W[jd];B[ic];W[ld];B[lb];W[pc];B[od];W[rb];B[qa];W[sc];B[rd];W[ra];B[na];W[oa];B[sb];W[rf];B[of];W[oe];B[ne];W[pe];B[pf];W[pg];B[qe];W[nf];B[oe];W[me];B[sf];W[sg];B[hm];W[bk];B[mk];W[ib];B[hc];W[sp];B[ro];W[ho];B[io];W[ik];B[eq];W[dq];B[gm];W[fm];B[fl];W[fn];B[hk];W[hj];B[gk];W[gj];B[el];W[kk];B[sd];W[se];B[sh];W[qg];B[sf];W[hb];B[gb];W[se];B[ig];W[jf];B[sf];W[ka];B[ia];W[se];B[mf];W[lf];B[sf];W[gd];B[hd];W[se];B[lj];W[kj];B[sf];W[lc];B[ha];W[se];B[ki];W[mg];B[sf];W[bj];B[lo];W[se];B[qs];W[qr];B[sf];W[rs];B[sc];W[se];B[lh];W[mh];B[sf];W[la];B[ja];W[se];B[lg];W[mf];B[sf];W[jb];B[ib];W[se];B[gh];W[hh];B[sf];W[sj];B[ri];W[se];B[hi];W[gi];B[sf];W[ff];B[gc];W[se];B[qb];W[pa];B[sf];W[lp];B[ko];W[se];B[qa];W[qb];B[sf];W[bi];B[dm];W[dl];B[em];W[dn];B[sa];W[ip];B[jn];W[hp];B[jp];W[lr];B[ll];W[km];B[ij];W[ii];B[ep];W[eo];B[mm];W[ci];B[di];W[il];B[bf];W[bh];B[ks];W[dj];B[dg];W[ck];B[so];W[sq];B[ae];W[ad];B[af];W[ab];B[ea];W[ca];B[ah];W[ai];B[ag];W[es];B[lk];W[kq];B[jq];W[mp];B[lq];W[gs];B[hr];W[kq];B[bd];W[bc];B[lq];W[bg];B[ee];W[kq];B[bn];W[al];B[lq];W[jj];B[kq];W[se];B[qa];W[sf];B[gl];W[en]C[])'"
      ]
     },
     "execution_count": 41,
     "metadata": {},
     "output_type": "execute_result"
    }
   ],
   "source": [
    "sgf.encode('utf8')"
   ]
  },
  {
   "cell_type": "code",
   "execution_count": 48,
   "metadata": {
    "collapsed": true
   },
   "outputs": [],
   "source": [
    "dat=codecs.open('./sgfs/test.sgf',encoding='iso2022kr')"
   ]
  },
  {
   "cell_type": "code",
   "execution_count": 49,
   "metadata": {
    "collapsed": false
   },
   "outputs": [],
   "source": [
    "for line in dat:print line"
   ]
  },
  {
   "cell_type": "code",
   "execution_count": 16,
   "metadata": {
    "collapsed": false
   },
   "outputs": [
    {
     "data": {
      "text/plain": [
       "'place'"
      ]
     },
     "execution_count": 16,
     "metadata": {},
     "output_type": "execute_result"
    }
   ],
   "source": [
    "root[17].tag"
   ]
  },
  {
   "cell_type": "raw",
   "metadata": {},
   "source": [
    "root.find('place').text"
   ]
  },
  {
   "cell_type": "code",
   "execution_count": 20,
   "metadata": {
    "collapsed": false
   },
   "outputs": [
    {
     "data": {
      "text/plain": [
       "u'(;AP[PureMorph:1.0]CA[ISO-2022-KR]FF[4]GM[1]ST[2]SZ[19]GN[]PC[http://www.hangame.com/]DT[]TS[]TF[]TM[2\\uc2dc\\uac0460\\ucd085\\ud68c]RE[\\ud751 1.5\\uc9d1 \\uc2b9]HA[\\ud638\\uc120 - 6\\uc9d1 \\ubc18 \\uacf5\\uc81c]HH[1]PW[[p]\\uc870\\ud55c\\uc2b9]PB[[p]\\uc655\\ub808\\uc774]WR[209]BR[209]ZC[]ZT[]AN[]HC[0]VW[aa:ss]QT[60]QC[5]QF[0]N[Title]C[Summary]QK[DMessage];B[pd]QM[0]N[\\uc815\\ub2f5\\ub3c4]C[--]QA[];W[dp];B[qp];W[dc];B[oq];W[qj];B[qg];W[qm];B[cf];W[cd];B[cj];W[fq];B[fd];W[df];B[cg];W[ce];B[jc];W[cl];B[oc];W[mq];B[ec];W[ek];B[db];W[cb];B[dd];W[cc];B[de];W[ef];B[fb];W[da];B[eb];W[be];B[ej];W[fe];B[ed];W[dh];B[ch];W[fj];B[ei];W[fi];B[eh];W[fh];B[fg];W[gg];B[eg];W[fk];B[gf];W[hg];B[kp];W[mo];B[kn];W[lm];B[iq];W[jl];B[gr];W[gq];B[fr];W[er];B[hq];W[fs];B[hs];W[go];B[kr];W[ke];B[hf];W[if];B[ie];W[he];B[ge];W[je];B[id];W[kc];B[hn];W[gn];B[bl];W[bm];B[cm];W[cn];B[oo];W[qq];B[rp];W[om];B[og];W[pq];B[op];W[rq];B[rn];W[or];B[nr];W[os];B[rm];W[mr];B[ql];W[pl];B[qk];W[pk];B[nq];W[ns];B[rj];W[ri];B[qi];W[pj];B[rk];W[qc];B[qd];W[qh];B[pi];W[ph];B[oi];W[oh];B[ni];W[nh];B[rh];W[mi];B[nj];W[ng];B[mj];W[rg];B[si];W[qf];B[re];W[li];B[nn];W[ml];B[mn];W[pp];B[po];W[qo];B[nl];W[ln];B[qn];W[ob];B[nb];W[pb];B[rc];W[nc];B[mc];W[nd];B[mb];W[md];B[kb];W[jb];B[kd];W[jd];B[ic];W[ld];B[lb];W[pc];B[od];W[rb];B[qa];W[sc];B[rd];W[ra];B[na];W[oa];B[sb];W[rf];B[of];W[oe];B[ne];W[pe];B[pf];W[pg];B[qe];W[nf];B[oe];W[me];B[sf];W[sg];B[hm];W[bk];B[mk];W[ib];B[hc];W[sp];B[ro];W[ho];B[io];W[ik];B[eq];W[dq];B[gm];W[fm];B[fl];W[fn];B[hk];W[hj];B[gk];W[gj];B[el];W[kk];B[sd];W[se];B[sh];W[qg];B[sf];W[hb];B[gb];W[se];B[ig];W[jf];B[sf];W[ka];B[ia];W[se];B[mf];W[lf];B[sf];W[gd];B[hd];W[se];B[lj];W[kj];B[sf];W[lc];B[ha];W[se];B[ki];W[mg];B[sf];W[bj];B[lo];W[se];B[qs];W[qr];B[sf];W[rs];B[sc];W[se];B[lh];W[mh];B[sf];W[la];B[ja];W[se];B[lg];W[mf];B[sf];W[jb];B[ib];W[se];B[gh];W[hh];B[sf];W[sj];B[ri];W[se];B[hi];W[gi];B[sf];W[ff];B[gc];W[se];B[qb];W[pa];B[sf];W[lp];B[ko];W[se];B[qa];W[qb];B[sf];W[bi];B[dm];W[dl];B[em];W[dn];B[sa];W[ip];B[jn];W[hp];B[jp];W[lr];B[ll];W[km];B[ij];W[ii];B[ep];W[eo];B[mm];W[ci];B[di];W[il];B[bf];W[bh];B[ks];W[dj];B[dg];W[ck];B[so];W[sq];B[ae];W[ad];B[af];W[ab];B[ea];W[ca];B[ah];W[ai];B[ag];W[es];B[lk];W[kq];B[jq];W[mp];B[lq];W[gs];B[hr];W[kq];B[bd];W[bc];B[lq];W[bg];B[ee];W[kq];B[bn];W[al];B[lq];W[jj];B[kq];W[se];B[qa];W[sf];B[gl];W[en]C[])'"
      ]
     },
     "execution_count": 20,
     "metadata": {},
     "output_type": "execute_result"
    }
   ],
   "source": [
    "root.find('gibodata').text"
   ]
  },
  {
   "cell_type": "code",
   "execution_count": 15,
   "metadata": {
    "collapsed": true
   },
   "outputs": [],
   "source": [
    "import codecs"
   ]
  },
  {
   "cell_type": "code",
   "execution_count": 19,
   "metadata": {
    "collapsed": false
   },
   "outputs": [],
   "source": [
    "dat.write(root.find('gibodata').text)"
   ]
  },
  {
   "cell_type": "markdown",
   "metadata": {},
   "source": [
    "'(;FF[4]GM[1]CA[UTF-8]AP[]PC[]\n",
    "DT[]\n",
    "GN[]\n",
    "SO[]\n",
    "EV[]\n",
    "RO[]\n",
    "PB[]\n",
    "PW[]\n",
    "BR[]\n",
    "WR[]\n",
    "XM[]\n",
    "GC[]\n",
    "OT[]\n",
    "RU[]\n",
    "SZ[19]\n",
    "KM[]\n",
    ";B[pd];W[dd];B[pq];W[dp];B[qj];W[fq];B[fc];W[cg];B[nc];W[dc];B[id];W[lp];B[po];W[co];B[ln];W[jp];B[jn];W[ni];B[ph];W[ki];B[li];W[lj];B[mj];W[mi];B[lh];W[lk];B[nj];W[kh];B[lg];W[mm];B[nl];W[lm];B[ik];W[kg];B[lf];W[km];B[ip];W[jo];B[dn];W[cn];B[io];W[kn];B[fn];W[qc];B[re];W[ob];B[nb];W[oc];B[od];W[rb];B[rd];W[hn];B[dl];W[fl];B[fp];W[gp];B[gl];W[gk];B[fm];W[el];B[gq];W[fo];B[ep];W[eq];B[eo];W[go];B[dq];W[dr];B[cq];W[cr];B[gr];W[fr];B[in];W[hm];B[hl];W[im];B[jm];W[jl];B[il];W[iq];B[jk];W[kl];B[cm];W[em];B[en];W[dm];B[gm];W[hp];B[cp];W[bq];B[fj];W[fk];B[gj];W[dk];B[ej];W[dj];B[hg];W[jj];B[bp];W[ap];B[ij];W[bo];B[kf];W[kc];B[lb];W[hc];B[ce];W[de];B[hd];W[gc];B[gd];W[fb];B[cf];W[dg];B[bg];W[bh];B[bc];W[gg];B[gh];W[bf];B[be];W[ag];B[cb];W[ic];B[on];W[fg];B[jd];W[hf];B[ig];W[ii];B[di];W[ci];B[hi];W[ab];B[ek];W[cl];B[ef];W[db];B[hk];W[bm];B[df];W[eg];B[cd];W[fe];B[gf];W[ge];B[fd];W[ee];B[ae];W[if];B[ji];W[jh];B[ih];W[jc];B[ji];W[qd];B[qe];W[ii];B[eb];W[ec];B[ji];W[bb];B[cc];W[ii];B[ca];W[qq];B[qp];W[nd];B[md];W[ne];B[oe];W[jg];B[ji];W[mc])'\n"
   ]
  },
  {
   "cell_type": "code",
   "execution_count": 22,
   "metadata": {
    "collapsed": true
   },
   "outputs": [],
   "source": [
    "sgf = '(;FF[4]GM[1]CA[UTF-8]AP[]PC[] DT[] GN[] SO[] EV[] RO[] PB[] PW[] BR[] WR[] XM[] GC[] OT[] RU[] SZ[19] KM[]B[pd];W[dd];B[pq];W[dp];B[qj];W[fq];B[fc];W[cg];B[nc];W[dc];B[id];W[lp];B[po];W[co];B[ln];W[jp];B[jn];W[ni];B[ph];W[ki];B[li];W[lj];B[mj];W[mi];B[lh];W[lk];B[nj];W[kh];B[lg];W[mm];B[nl];W[lm];B[ik];W[kg];B[lf];W[km];B[ip];W[jo];B[dn];W[cn];B[io];W[kn];B[fn];W[qc];B[re];W[ob];B[nb];W[oc];B[od];W[rb];B[rd];W[hn];B[dl];W[fl];B[fp];W[gp];B[gl];W[gk];B[fm];W[el];B[gq];W[fo];B[ep];W[eq];B[eo];W[go];B[dq];W[dr];B[cq];W[cr];B[gr];W[fr];B[in];W[hm];B[hl];W[im];B[jm];W[jl];B[il];W[iq];B[jk];W[kl];B[cm];W[em];B[en];W[dm];B[gm];W[hp];B[cp];W[bq];B[fj];W[fk];B[gj];W[dk];B[ej];W[dj];B[hg];W[jj];B[bp];W[ap];B[ij];W[bo];B[kf];W[kc];B[lb];W[hc];B[ce];W[de];B[hd];W[gc];B[gd];W[fb];B[cf];W[dg];B[bg];W[bh];B[bc];W[gg];B[gh];W[bf];B[be];W[ag];B[cb];W[ic];B[on];W[fg];B[jd];W[hf];B[ig];W[ii];B[di];W[ci];B[hi];W[ab];B[ek];W[cl];B[ef];W[db];B[hk];W[bm];B[df];W[eg];B[cd];W[fe];B[gf];W[ge];B[fd];W[ee];B[ae];W[if];B[ji];W[jh];B[ih];W[jc];B[ji];W[qd];B[qe];W[ii];B[eb];W[ec];B[ji];W[bb];B[cc];W[ii];B[ca];W[qq];B[qp];W[nd];B[md];W[ne];B[oe];W[jg];B[ji];W[mc])'"
   ]
  },
  {
   "cell_type": "code",
   "execution_count": 38,
   "metadata": {
    "collapsed": false
   },
   "outputs": [],
   "source": [
    "sgf='(;FF[4]GM[1]SZ[19]PB['\n",
    "sgf1=root.find('playerbname').text\n",
    "sgf2=';B[pd])'"
   ]
  },
  {
   "cell_type": "code",
   "execution_count": 39,
   "metadata": {
    "collapsed": false
   },
   "outputs": [
    {
     "data": {
      "text/plain": [
       "'(;FF[4]GM[1]SZ[19]PB['"
      ]
     },
     "execution_count": 39,
     "metadata": {},
     "output_type": "execute_result"
    }
   ],
   "source": [
    "sgf"
   ]
  },
  {
   "cell_type": "code",
   "execution_count": 35,
   "metadata": {
    "collapsed": false
   },
   "outputs": [
    {
     "name": "stdout",
     "output_type": "stream",
     "text": [
      "김동희\n"
     ]
    }
   ],
   "source": [
    "print root.find('playerbname').text"
   ]
  },
  {
   "cell_type": "code",
   "execution_count": 13,
   "metadata": {
    "collapsed": false
   },
   "outputs": [
    {
     "data": {
      "text/plain": [
       "unicode"
      ]
     },
     "execution_count": 13,
     "metadata": {},
     "output_type": "execute_result"
    }
   ],
   "source": [
    "unicode"
   ]
  },
  {
   "cell_type": "code",
   "execution_count": 12,
   "metadata": {
    "collapsed": false
   },
   "outputs": [
    {
     "ename": "TypeError",
     "evalue": "decoding Unicode is not supported",
     "output_type": "error",
     "traceback": [
      "\u001b[0;31m---------------------------------------------------------------------------\u001b[0m",
      "\u001b[0;31mTypeError\u001b[0m                                 Traceback (most recent call last)",
      "\u001b[0;32m<ipython-input-12-e6b30c20f1c3>\u001b[0m in \u001b[0;36m<module>\u001b[0;34m()\u001b[0m\n\u001b[1;32m      1\u001b[0m \u001b[0mdat\u001b[0m\u001b[0;34m=\u001b[0m\u001b[0mopen\u001b[0m\u001b[0;34m(\u001b[0m\u001b[0;34m'./sgfs/test.sgf'\u001b[0m\u001b[0;34m,\u001b[0m\u001b[0;34m'w'\u001b[0m\u001b[0;34m)\u001b[0m\u001b[0;34m\u001b[0m\u001b[0m\n\u001b[0;32m----> 2\u001b[0;31m \u001b[0mdat\u001b[0m\u001b[0;34m.\u001b[0m\u001b[0mwrite\u001b[0m\u001b[0;34m(\u001b[0m\u001b[0municode\u001b[0m\u001b[0;34m(\u001b[0m\u001b[0mroot\u001b[0m\u001b[0;34m.\u001b[0m\u001b[0mfind\u001b[0m\u001b[0;34m(\u001b[0m\u001b[0;34m'gibodata'\u001b[0m\u001b[0;34m)\u001b[0m\u001b[0;34m.\u001b[0m\u001b[0mtext\u001b[0m\u001b[0;34m,\u001b[0m\u001b[0;34m'utf8'\u001b[0m\u001b[0;34m)\u001b[0m\u001b[0;34m)\u001b[0m\u001b[0;34m\u001b[0m\u001b[0m\n\u001b[0m",
      "\u001b[0;31mTypeError\u001b[0m: decoding Unicode is not supported"
     ]
    }
   ],
   "source": [
    "dat=open('./sgfs/test.sgf','w')\n",
    "dat.write(unicode(root.find('gibodata').text,'utf8'))"
   ]
  },
  {
   "cell_type": "code",
   "execution_count": 37,
   "metadata": {
    "collapsed": false
   },
   "outputs": [
    {
     "data": {
      "text/plain": [
       "'(;FF[4]GM[1]SZ[19];B[pd])'"
      ]
     },
     "execution_count": 37,
     "metadata": {},
     "output_type": "execute_result"
    }
   ],
   "source": [
    "sgf"
   ]
  },
  {
   "cell_type": "code",
   "execution_count": null,
   "metadata": {
    "collapsed": true
   },
   "outputs": [],
   "source": [
    "sgf='(\n",
    ";FF[4]GM[1]\n",
    "AP[DGS:1.19.9]\n",
    "PC[Dragon Go Server: http://www.dragongoserver.net/]\n",
    "DT[2016-03-07,2016-03-18]\n",
    "GN[Bogoliubon-alrobin-1065700-20160318]\n",
    "SO[http://www.dragongoserver.net/game.php?gid=1065700]\n",
    "EV[(Dragon Round Robin) Tournament #47: Sunjang Baduk site-wide Tournament 2016]\n",
    "RO[Round 1 of 1]\n",
    "PB[al robinson (alrobin)]\n",
    "PW[Nathan Borggren (Bogoliubon)]\n",
    "BR[11k]\n",
    "WR[2d]\n",
    "XM[89]\n",
    "GC[Game ID: 1065700\n",
    "Game Type: GO (1:1)\n",
    "(Dragon Round Robin) Tournament #47: Sunjang Baduk site-wide Tournament 2016; with 191 participants\n",
    "Rated: N\n",
    "\n",
    "White Start Rating: 2d (-39%) - ELO 2161\n",
    "Black Start Rating: 11k (+48%) - ELO 1048\n",
    "\n",
    "Shape #32 (W-First): Sunjang (black tengen)]\n",
    "OT[10 days with 1 day extra per move]\n",
    "RU[Chinese]\n",
    "SZ[19]\n",
    "KM[7.5]\n",
    "AB[pj][dp][gp][mp][dj][jj][pd][md][gd]\n",
    "AW[jd][jp][pp][pm][dg][dd][dm][pg]\n",
    "C[Shape-Game Setup: Shape #32 (W-First): Sunjang (black tengen)\n",
    "http://www.dragongoserver.net/view_shape.php?shape=32]\n",
    ";B[]\n",
    ";W[gn]\n",
    ";B[oq]\n",
    ";W[mn]\n",
    ";B[kq]\n",
    ";W[fj]\n",
    ";B[ek]\n",
    ";W[eo]\n",
    ";B[ep]\n",
    ";W[hj]\n",
    ";B[hi]\n",
    ";W[gi]\n",
    ";B[hh]\n",
    ";W[gh]\n",
    ";B[hg]\n",
    ";W[mg]\n",
    ";B[gk]\n",
    ";W[gj]\n",
    ";B[hk]\n",
    ";W[fk]\n",
    ";B[el]\n",
    ";W[em]\n",
    ";B[ik]\n",
    ";W[fl]\n",
    ";B[ch]\n",
    ";W[cg]\n",
    ";B[cm]\n",
    ";W[cl]\n",
    ";B[cn]\n",
    ";W[dl]\n",
    ";B[dk]\n",
    ";W[jq]\n",
    ";B[pq]\n",
    ";W[nj]\n",
    ";B[qh]\n",
    ";W[qg]\n",
    ";B[ql]\n",
    ";W[qm]\n",
    ";B[gg]\n",
    ";W[fg]\n",
    ";B[eh]\n",
    ";W[dh]\n",
    ";B[kg]\n",
    ";W[ld]\n",
    ";B[me]\n",
    ";W[gf]\n",
    ";B[pl]\n",
    ";W[om]\n",
    ";B[ol]\n",
    ";W[nl]\n",
    ";B[oj]\n",
    ";W[ni]\n",
    ";B[ph]\n",
    ";W[lf]\n",
    ";B[lc]\n",
    ";W[le]\n",
    ";B[hf]\n",
    ";W[ff]\n",
    ";B[he]\n",
    ";W[fc]\n",
    ";B[gc]\n",
    ";W[kc]\n",
    ";B[lb]\n",
    ";W[kb]\n",
    ";B[la]\n",
    ";W[ka]\n",
    ";B[nc]\n",
    ";W[ij]\n",
    ";B[kk]\n",
    ";W[ji]\n",
    ";B[ki]\n",
    ";W[jh]\n",
    ";B[ii]\n",
    ";W[kh]\n",
    ";B[do]\n",
    ";W[og]\n",
    ";B[qp]\n",
    ";W[rj]\n",
    ";B[ri]\n",
    ";W[rg]\n",
    ";B[qj]\n",
    ";W[qc]\n",
    ";B[qd]\n",
    ";W[rd]\n",
    ";B[re]\n",
    ";W[rc]\n",
    ";B[pc]\n",
    ";W[pb]\n",
    ";B[ob]\n",
    ")\n",
    "'"
   ]
  }
 ],
 "metadata": {
  "kernelspec": {
   "display_name": "Python 2",
   "language": "python",
   "name": "python2"
  },
  "language_info": {
   "codemirror_mode": {
    "name": "ipython",
    "version": 2
   },
   "file_extension": ".py",
   "mimetype": "text/x-python",
   "name": "python",
   "nbconvert_exporter": "python",
   "pygments_lexer": "ipython2",
   "version": "2.7.11"
  }
 },
 "nbformat": 4,
 "nbformat_minor": 0
}
